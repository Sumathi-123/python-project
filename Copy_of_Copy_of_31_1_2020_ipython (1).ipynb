{
  "nbformat": 4,
  "nbformat_minor": 0,
  "metadata": {
    "colab": {
      "name": "Copy of Copy of 31-1-2020.ipython",
      "provenance": [],
      "collapsed_sections": []
    },
    "kernelspec": {
      "name": "python3",
      "display_name": "Python 3"
    }
  },
  "cells": [
    {
      "cell_type": "code",
      "metadata": {
        "id": "vZmk4nfo1Lz3",
        "colab_type": "code",
        "colab": {}
      },
      "source": [
        ""
      ],
      "execution_count": 0,
      "outputs": []
    },
    {
      "cell_type": "markdown",
      "metadata": {
        "id": "cQLP-eD6kVtk",
        "colab_type": "text"
      },
      "source": [
        ""
      ]
    },
    {
      "cell_type": "markdown",
      "metadata": {
        "id": "1On7rkCu1eun",
        "colab_type": "text"
      },
      "source": [
        "how to know any ascii value of cahr"
      ]
    },
    {
      "cell_type": "code",
      "metadata": {
        "id": "09g5ziz216OZ",
        "colab_type": "code",
        "colab": {}
      },
      "source": [
        ""
      ],
      "execution_count": 0,
      "outputs": []
    },
    {
      "cell_type": "code",
      "metadata": {
        "id": "7aQ_J4pS1_Y8",
        "colab_type": "code",
        "outputId": "7c1a951c-7fc3-434b-dcb9-a95426a16b7e",
        "colab": {
          "base_uri": "https://localhost:8080/",
          "height": 72
        }
      },
      "source": [
        "a=10\n",
        "b=10\n",
        "c=20\n",
        "print(id(a))\n",
        "print(id(b))\n",
        "print(id(c))"
      ],
      "execution_count": 0,
      "outputs": [
        {
          "output_type": "stream",
          "text": [
            "10914784\n",
            "10914784\n",
            "10915104\n"
          ],
          "name": "stdout"
        }
      ]
    },
    {
      "cell_type": "code",
      "metadata": {
        "id": "JQMc-9hm3Ixr",
        "colab_type": "code",
        "outputId": "152053bf-f017-47d1-9d64-75148bd40863",
        "colab": {
          "base_uri": "https://localhost:8080/",
          "height": 35
        }
      },
      "source": [
        "ord(\"a\")"
      ],
      "execution_count": 0,
      "outputs": [
        {
          "output_type": "execute_result",
          "data": {
            "text/plain": [
              "97"
            ]
          },
          "metadata": {
            "tags": []
          },
          "execution_count": 5
        }
      ]
    },
    {
      "cell_type": "code",
      "metadata": {
        "id": "Dg4WRcbc2KsE",
        "colab_type": "code",
        "outputId": "bb431340-abb0-4dd6-f9ec-f06cf621df98",
        "colab": {
          "base_uri": "https://localhost:8080/",
          "height": 35
        }
      },
      "source": [
        "ord(\"H\")"
      ],
      "execution_count": 0,
      "outputs": [
        {
          "output_type": "execute_result",
          "data": {
            "text/plain": [
              "72"
            ]
          },
          "metadata": {
            "tags": []
          },
          "execution_count": 6
        }
      ]
    },
    {
      "cell_type": "code",
      "metadata": {
        "id": "mSpapPas3Sop",
        "colab_type": "code",
        "outputId": "232565fd-2e13-42fc-9876-7a9b43f59f55",
        "colab": {
          "base_uri": "https://localhost:8080/",
          "height": 35
        }
      },
      "source": [
        "ord(\"s\")"
      ],
      "execution_count": 0,
      "outputs": [
        {
          "output_type": "execute_result",
          "data": {
            "text/plain": [
              "115"
            ]
          },
          "metadata": {
            "tags": []
          },
          "execution_count": 8
        }
      ]
    },
    {
      "cell_type": "code",
      "metadata": {
        "id": "KIsXZaed3aq0",
        "colab_type": "code",
        "colab": {}
      },
      "source": [
        ""
      ],
      "execution_count": 0,
      "outputs": []
    },
    {
      "cell_type": "code",
      "metadata": {
        "id": "R4_FKPg336TN",
        "colab_type": "code",
        "outputId": "bbe853d3-f635-495b-f164-7967df337750",
        "colab": {
          "base_uri": "https://localhost:8080/",
          "height": 35
        }
      },
      "source": [
        "ord(\"d\")"
      ],
      "execution_count": 0,
      "outputs": [
        {
          "output_type": "execute_result",
          "data": {
            "text/plain": [
              "100"
            ]
          },
          "metadata": {
            "tags": []
          },
          "execution_count": 10
        }
      ]
    },
    {
      "cell_type": "code",
      "metadata": {
        "id": "Y5qQVst_3_tk",
        "colab_type": "code",
        "outputId": "225cf0e0-6fac-4eff-ba9a-48a6a2e22435",
        "colab": {
          "base_uri": "https://localhost:8080/",
          "height": 54
        }
      },
      "source": [
        "a=\"18005a0404\"\n",
        "print(type(a))\n",
        "print(a)\n"
      ],
      "execution_count": 0,
      "outputs": [
        {
          "output_type": "stream",
          "text": [
            "<class 'str'>\n",
            "18005a0404\n"
          ],
          "name": "stdout"
        }
      ]
    },
    {
      "cell_type": "code",
      "metadata": {
        "id": "fWJQzI9I5XAd",
        "colab_type": "code",
        "outputId": "76d6d8a1-e0a3-4d3e-d960-27c65744b7bb",
        "colab": {
          "base_uri": "https://localhost:8080/",
          "height": 35
        }
      },
      "source": [
        "a=10\n",
        "if a<30:\n",
        "    print(\"yes\")\n",
        "else:\n",
        "        print(\"no\")"
      ],
      "execution_count": 0,
      "outputs": [
        {
          "output_type": "stream",
          "text": [
            "yes\n"
          ],
          "name": "stdout"
        }
      ]
    },
    {
      "cell_type": "code",
      "metadata": {
        "id": "5toqD7lF4rnj",
        "colab_type": "code",
        "colab": {}
      },
      "source": [
        ""
      ],
      "execution_count": 0,
      "outputs": []
    },
    {
      "cell_type": "markdown",
      "metadata": {
        "id": "8LzGCldr6ugX",
        "colab_type": "text"
      },
      "source": [
        "chek whether the year  is leap year  or not"
      ]
    },
    {
      "cell_type": "code",
      "metadata": {
        "id": "8aBYvoDZ8RTI",
        "colab_type": "code",
        "colab": {}
      },
      "source": [
        ""
      ],
      "execution_count": 0,
      "outputs": []
    },
    {
      "cell_type": "code",
      "metadata": {
        "id": "XhR7LXK2-fDE",
        "colab_type": "code",
        "outputId": "5db447e2-cfce-45f7-b077-4184006792e4",
        "colab": {
          "base_uri": "https://localhost:8080/",
          "height": 54
        }
      },
      "source": [
        "a=int(input(\"enter the year\"))\n",
        "if a%400 == 0 or (a%100!=0 and a%4==0):\n",
        "     print(\"leap year\")\n",
        "else:\n",
        "     print(\"not\")"
      ],
      "execution_count": 0,
      "outputs": [
        {
          "output_type": "stream",
          "text": [
            "enter the year2016\n",
            "leap year\n"
          ],
          "name": "stdout"
        }
      ]
    },
    {
      "cell_type": "code",
      "metadata": {
        "id": "3g3XPjdC_MsY",
        "colab_type": "code",
        "colab": {}
      },
      "source": [
        ""
      ],
      "execution_count": 0,
      "outputs": []
    },
    {
      "cell_type": "markdown",
      "metadata": {
        "id": "AArBc21tBk8N",
        "colab_type": "text"
      },
      "source": [
        "control statements"
      ]
    },
    {
      "cell_type": "code",
      "metadata": {
        "id": "9F1sUJbHBpmR",
        "colab_type": "code",
        "colab": {}
      },
      "source": [
        ""
      ],
      "execution_count": 0,
      "outputs": []
    },
    {
      "cell_type": "code",
      "metadata": {
        "id": "_D-dDu1wBqZ7",
        "colab_type": "code",
        "outputId": "9993ec10-68d7-4505-bc2d-0e4df2fd3e16",
        "colab": {
          "base_uri": "https://localhost:8080/",
          "height": 135
        }
      },
      "source": [
        "*if\n",
        "*else\n",
        "*elif"
      ],
      "execution_count": 0,
      "outputs": [
        {
          "output_type": "error",
          "ename": "SyntaxError",
          "evalue": "ignored",
          "traceback": [
            "\u001b[0;36m  File \u001b[0;32m\"<ipython-input-59-c57af4c60b55>\"\u001b[0;36m, line \u001b[0;32m1\u001b[0m\n\u001b[0;31m    *if\u001b[0m\n\u001b[0m      ^\u001b[0m\n\u001b[0;31mSyntaxError\u001b[0m\u001b[0;31m:\u001b[0m invalid syntax\n"
          ]
        }
      ]
    },
    {
      "cell_type": "markdown",
      "metadata": {
        "id": "q8iBxtnECAMj",
        "colab_type": "text"
      },
      "source": [
        "write a  program to know the person iseligible for voting or not\n",
        "test cases are above 18,lesser than 88,not eligible"
      ]
    },
    {
      "cell_type": "code",
      "metadata": {
        "id": "8EE9FgjIEeDC",
        "colab_type": "code",
        "colab": {}
      },
      "source": [
        ""
      ],
      "execution_count": 0,
      "outputs": []
    },
    {
      "cell_type": "code",
      "metadata": {
        "id": "e7OcfGdoB205",
        "colab_type": "code",
        "outputId": "cc4a6bba-1ba1-4c92-8645-836685451da4",
        "colab": {
          "base_uri": "https://localhost:8080/",
          "height": 54
        }
      },
      "source": [
        "a=int(input(\"enter the nuber\"))\n",
        "if (a>=18 and a<=80):\n",
        "    print(\"eligible\")\n",
        "else:\n",
        "    print(\"not eligible\")"
      ],
      "execution_count": 0,
      "outputs": [
        {
          "output_type": "stream",
          "text": [
            "enter the nuber45\n",
            "eligible\n"
          ],
          "name": "stdout"
        }
      ]
    },
    {
      "cell_type": "code",
      "metadata": {
        "id": "t_sYnWpIC5XH",
        "colab_type": "code",
        "colab": {}
      },
      "source": [
        ""
      ],
      "execution_count": 0,
      "outputs": []
    },
    {
      "cell_type": "markdown",
      "metadata": {
        "id": "apuNJKeyH7ri",
        "colab_type": "text"
      },
      "source": [
        "extract the number"
      ]
    },
    {
      "cell_type": "markdown",
      "metadata": {
        "id": "o6IhmQxBEcUd",
        "colab_type": "text"
      },
      "source": [
        ""
      ]
    },
    {
      "cell_type": "code",
      "metadata": {
        "id": "CEC2iPaUIAIK",
        "colab_type": "code",
        "outputId": "c79924f7-71a6-4f10-bee1-13d8e3912cdb",
        "colab": {
          "base_uri": "https://localhost:8080/",
          "height": 35
        }
      },
      "source": [
        "n=1234\n",
        "while n!=0:\n",
        "    print(n%10,end='  ')\n",
        "    n=n//10"
      ],
      "execution_count": 0,
      "outputs": [
        {
          "output_type": "stream",
          "text": [
            "4  3  2  1  "
          ],
          "name": "stdout"
        }
      ]
    },
    {
      "cell_type": "code",
      "metadata": {
        "id": "JBDGKzttIi5J",
        "colab_type": "code",
        "outputId": "02607af6-e191-4dc0-b77d-5782999d2809",
        "colab": {
          "base_uri": "https://localhost:8080/",
          "height": 90
        }
      },
      "source": [
        "n=1234\n",
        "while n!=0:\n",
        "    print(n%10)\n",
        "    n=n//10"
      ],
      "execution_count": 0,
      "outputs": [
        {
          "output_type": "stream",
          "text": [
            "4\n",
            "3\n",
            "2\n",
            "1\n"
          ],
          "name": "stdout"
        }
      ]
    },
    {
      "cell_type": "code",
      "metadata": {
        "id": "W9l2JP7lIvh5",
        "colab_type": "code",
        "outputId": "b137d99f-1643-4001-982b-e60d976825fa",
        "colab": {
          "base_uri": "https://localhost:8080/",
          "height": 90
        }
      },
      "source": [
        "n=1234\n",
        "while n!=0:\n",
        "    print(n%10,)\n",
        "    n=n//10"
      ],
      "execution_count": 0,
      "outputs": [
        {
          "output_type": "stream",
          "text": [
            "4\n",
            "3\n",
            "2\n",
            "1\n"
          ],
          "name": "stdout"
        }
      ]
    },
    {
      "cell_type": "code",
      "metadata": {
        "id": "NCEKG53VE5zy",
        "colab_type": "code",
        "colab": {}
      },
      "source": [
        ""
      ],
      "execution_count": 0,
      "outputs": []
    },
    {
      "cell_type": "markdown",
      "metadata": {
        "id": "uFg8u8oOJyc0",
        "colab_type": "text"
      },
      "source": [
        "for<condition>\n",
        "body"
      ]
    },
    {
      "cell_type": "code",
      "metadata": {
        "id": "zuJgec-oJ2PF",
        "colab_type": "code",
        "colab": {}
      },
      "source": [
        ""
      ],
      "execution_count": 0,
      "outputs": []
    },
    {
      "cell_type": "code",
      "metadata": {
        "id": "R_DYuEIOJ3Ex",
        "colab_type": "code",
        "outputId": "76b7a3fd-ba89-4949-d117-c7d9d67f8dfe",
        "colab": {
          "base_uri": "https://localhost:8080/",
          "height": 199
        }
      },
      "source": [
        "for i in range(0,10):\n",
        "    print(i)"
      ],
      "execution_count": 0,
      "outputs": [
        {
          "output_type": "stream",
          "text": [
            "0\n",
            "1\n",
            "2\n",
            "3\n",
            "4\n",
            "5\n",
            "6\n",
            "7\n",
            "8\n",
            "9\n"
          ],
          "name": "stdout"
        }
      ]
    },
    {
      "cell_type": "code",
      "metadata": {
        "id": "9fjToHxgKDGi",
        "colab_type": "code",
        "outputId": "1380277f-986b-4687-bf04-af0b6dcc2fe5",
        "colab": {
          "base_uri": "https://localhost:8080/",
          "height": 35
        }
      },
      "source": [
        "for i in range(0,10):\n",
        "    print(i,end=' ')"
      ],
      "execution_count": 0,
      "outputs": [
        {
          "output_type": "stream",
          "text": [
            "0 1 2 3 4 5 6 7 8 9 "
          ],
          "name": "stdout"
        }
      ]
    },
    {
      "cell_type": "code",
      "metadata": {
        "id": "_YROGdy8KAWv",
        "colab_type": "code",
        "colab": {}
      },
      "source": [
        ""
      ],
      "execution_count": 0,
      "outputs": []
    },
    {
      "cell_type": "code",
      "metadata": {
        "id": "CVqAOfKxKPdq",
        "colab_type": "code",
        "outputId": "9a998a4b-ea70-45c8-b7fd-fafaa6237c8a",
        "colab": {
          "base_uri": "https://localhost:8080/",
          "height": 35
        }
      },
      "source": [
        "for i in range(0,5,100):\n",
        "    print(i,end=' ')"
      ],
      "execution_count": 0,
      "outputs": [
        {
          "output_type": "stream",
          "text": [
            "0 "
          ],
          "name": "stdout"
        }
      ]
    },
    {
      "cell_type": "code",
      "metadata": {
        "id": "j8JucCQ2LbTC",
        "colab_type": "code",
        "colab": {}
      },
      "source": [
        ""
      ],
      "execution_count": 0,
      "outputs": []
    },
    {
      "cell_type": "code",
      "metadata": {
        "id": "5ROxXPKxKR6_",
        "colab_type": "code",
        "outputId": "406922a3-517c-4db9-802c-2f4efce84256",
        "colab": {
          "base_uri": "https://localhost:8080/",
          "height": 54
        }
      },
      "source": [
        "for i in range(0,40,20):\n",
        "    print(i)"
      ],
      "execution_count": 0,
      "outputs": [
        {
          "output_type": "stream",
          "text": [
            "0\n",
            "20\n"
          ],
          "name": "stdout"
        }
      ]
    },
    {
      "cell_type": "code",
      "metadata": {
        "id": "MBia4ozaKaLf",
        "colab_type": "code",
        "colab": {}
      },
      "source": [
        ""
      ],
      "execution_count": 0,
      "outputs": []
    },
    {
      "cell_type": "markdown",
      "metadata": {
        "id": "vSiSTsSYLqXS",
        "colab_type": "text"
      },
      "source": [
        "read the number as input and out should be even sum"
      ]
    },
    {
      "cell_type": "code",
      "metadata": {
        "id": "Ck1HfOHeLzt_",
        "colab_type": "code",
        "colab": {}
      },
      "source": [
        ""
      ],
      "execution_count": 0,
      "outputs": []
    },
    {
      "cell_type": "code",
      "metadata": {
        "id": "Ba93Ju6cL0Z5",
        "colab_type": "code",
        "colab": {}
      },
      "source": [
        "n=int(input(\"enter the number\"))\n",
        "sum=1\n",
        "i=0\n",
        "while i<=n:\n",
        "    n%2==0\n",
        "    sum=sum+n\n",
        "    print(\"sum of even \",sum)"
      ],
      "execution_count": 0,
      "outputs": []
    },
    {
      "cell_type": "code",
      "metadata": {
        "id": "LnyCLDKYOCcM",
        "colab_type": "code",
        "outputId": "dbdc61ef-8039-4cd9-da9e-48377051f63e",
        "colab": {
          "base_uri": "https://localhost:8080/",
          "height": 54
        }
      },
      "source": [
        "n=int(input(\"enter the number:\"))\n",
        "i=0\n",
        "sum=0\n",
        "while i<=n:\n",
        "    if i%2 is 0:\n",
        "        sum=sum+i\n",
        "    i=i+1\n",
        "print(\"the sum is\",sum)"
      ],
      "execution_count": 0,
      "outputs": [
        {
          "output_type": "stream",
          "text": [
            "enter the number:24\n",
            "the sum is 156\n"
          ],
          "name": "stdout"
        }
      ]
    },
    {
      "cell_type": "code",
      "metadata": {
        "id": "7Qp_-xG9NXst",
        "colab_type": "code",
        "outputId": "b805cd4e-3499-4d6b-fc8d-51d7c0710e53",
        "colab": {
          "base_uri": "https://localhost:8080/",
          "height": 35
        }
      },
      "source": [
        "list=[1,2,3,4]\n",
        "list.append(1)\n",
        "print(list)"
      ],
      "execution_count": 0,
      "outputs": [
        {
          "output_type": "stream",
          "text": [
            "[1, 2, 3, 4, 1]\n"
          ],
          "name": "stdout"
        }
      ]
    },
    {
      "cell_type": "code",
      "metadata": {
        "id": "tvY_w8YjRezK",
        "colab_type": "code",
        "outputId": "193dce73-1da2-4c35-b2a5-3669bb5c7f27",
        "colab": {
          "base_uri": "https://localhost:8080/",
          "height": 35
        }
      },
      "source": [
        "list=[1,2,3,4]\n",
        "list.remove(2)\n",
        "print(list)"
      ],
      "execution_count": 0,
      "outputs": [
        {
          "output_type": "stream",
          "text": [
            "[1, 3, 4]\n"
          ],
          "name": "stdout"
        }
      ]
    },
    {
      "cell_type": "code",
      "metadata": {
        "id": "LFwSvsqdMahE",
        "colab_type": "code",
        "outputId": "3b634c42-c04d-4195-84da-f3d128029157",
        "colab": {
          "base_uri": "https://localhost:8080/",
          "height": 72
        }
      },
      "source": [
        "li=[1,3,2,4,5,6,7,8,9,0]\n",
        "print(min(li))\n",
        "print(max(li))\n",
        "print(len(li))"
      ],
      "execution_count": 0,
      "outputs": [
        {
          "output_type": "stream",
          "text": [
            "0\n",
            "9\n",
            "10\n"
          ],
          "name": "stdout"
        }
      ]
    },
    {
      "cell_type": "code",
      "metadata": {
        "id": "Mac1FW5nR99o",
        "colab_type": "code",
        "outputId": "12b0d2fe-a01f-4854-e24b-16c4c1a4cefa",
        "colab": {
          "base_uri": "https://localhost:8080/",
          "height": 35
        }
      },
      "source": [
        "list=[1,2,3,4]\n",
        "list.append(4)\n",
        "print(list)"
      ],
      "execution_count": 0,
      "outputs": [
        {
          "output_type": "stream",
          "text": [
            "[1, 2, 3, 4, 4]\n"
          ],
          "name": "stdout"
        }
      ]
    },
    {
      "cell_type": "code",
      "metadata": {
        "id": "V_PirzYAS_sk",
        "colab_type": "code",
        "outputId": "b332c054-7fbd-4315-86a6-9945592dc903",
        "colab": {
          "base_uri": "https://localhost:8080/",
          "height": 54
        }
      },
      "source": [
        "s={10,23,52,36,45}\n",
        "print(type(s))\n",
        "s"
      ],
      "execution_count": 0,
      "outputs": [
        {
          "output_type": "stream",
          "text": [
            "<class 'set'>\n"
          ],
          "name": "stdout"
        },
        {
          "output_type": "execute_result",
          "data": {
            "text/plain": [
              "{10, 23, 36, 45, 52}"
            ]
          },
          "metadata": {
            "tags": []
          },
          "execution_count": 120
        }
      ]
    },
    {
      "cell_type": "code",
      "metadata": {
        "id": "hfpln5l7Tn_9",
        "colab_type": "code",
        "outputId": "e0360580-b846-4511-9339-52f0febc15af",
        "colab": {
          "base_uri": "https://localhost:8080/",
          "height": 35
        }
      },
      "source": [
        "s.add(35)\n",
        "s"
      ],
      "execution_count": 0,
      "outputs": [
        {
          "output_type": "execute_result",
          "data": {
            "text/plain": [
              "{10, 23, 35, 36, 45, 52}"
            ]
          },
          "metadata": {
            "tags": []
          },
          "execution_count": 122
        }
      ]
    },
    {
      "cell_type": "code",
      "metadata": {
        "id": "AFMF-gcgUApz",
        "colab_type": "code",
        "outputId": "b66fd35f-20f7-4509-8e2f-8070bc8a8445",
        "colab": {
          "base_uri": "https://localhost:8080/",
          "height": 35
        }
      },
      "source": [
        " s.discard(35)\n",
        " s"
      ],
      "execution_count": 0,
      "outputs": [
        {
          "output_type": "execute_result",
          "data": {
            "text/plain": [
              "{10, 23, 36, 45, 52}"
            ]
          },
          "metadata": {
            "tags": []
          },
          "execution_count": 124
        }
      ]
    },
    {
      "cell_type": "code",
      "metadata": {
        "id": "NvLM3r-1UNBt",
        "colab_type": "code",
        "outputId": "b6e530b0-9972-4667-ad14-e3df97707c95",
        "colab": {
          "base_uri": "https://localhost:8080/",
          "height": 35
        }
      },
      "source": [
        "a={1,2,2,3,4,5}\n",
        "b={4,5,6,7,8,8,9}\n",
        "print(a-b)"
      ],
      "execution_count": 0,
      "outputs": [
        {
          "output_type": "stream",
          "text": [
            "{1, 2, 3}\n"
          ],
          "name": "stdout"
        }
      ]
    },
    {
      "cell_type": "code",
      "metadata": {
        "id": "B1O8d71chGqv",
        "colab_type": "code",
        "outputId": "626274cf-9142-4a77-8a07-27b2dab93359",
        "colab": {
          "base_uri": "https://localhost:8080/",
          "height": 35
        }
      },
      "source": [
        " a={1,2,2,3,4,5}\n",
        "b={4,5,6,7,8,8,9}\n",
        "print(a.union(b))\n",
        "\n"
      ],
      "execution_count": 0,
      "outputs": [
        {
          "output_type": "stream",
          "text": [
            "{1, 2, 3, 4, 5, 6, 7, 8, 9}\n"
          ],
          "name": "stdout"
        }
      ]
    },
    {
      "cell_type": "code",
      "metadata": {
        "id": "5aZjMlL_YH-z",
        "colab_type": "code",
        "outputId": "2a5c8d60-f48f-4335-fcf3-790992ec92c3",
        "colab": {
          "base_uri": "https://localhost:8080/",
          "height": 35
        }
      },
      "source": [
        "a={1,2,2,3,4,5}\n",
        "b={4,5,6,7,8,8,9}\n",
        "print(a.intersection(b))"
      ],
      "execution_count": 0,
      "outputs": [
        {
          "output_type": "stream",
          "text": [
            "{4, 5}\n"
          ],
          "name": "stdout"
        }
      ]
    },
    {
      "cell_type": "code",
      "metadata": {
        "id": "b627mD5VYqa9",
        "colab_type": "code",
        "outputId": "66838e65-e5d8-4bb5-d1f2-14264c242320",
        "colab": {
          "base_uri": "https://localhost:8080/",
          "height": 35
        }
      },
      "source": [
        "a={1,2,2,3,4,5}\n",
        "b={4,5,6,7,8,8,9}\n",
        "print(a or b)"
      ],
      "execution_count": 0,
      "outputs": [
        {
          "output_type": "stream",
          "text": [
            "{1, 2, 3, 4, 5}\n"
          ],
          "name": "stdout"
        }
      ]
    },
    {
      "cell_type": "code",
      "metadata": {
        "id": "bxOeFCQwh3pr",
        "colab_type": "code",
        "outputId": "0dfed361-0395-427a-b6f4-663330cf3127",
        "colab": {
          "base_uri": "https://localhost:8080/",
          "height": 35
        }
      },
      "source": [
        "a={1,2,2,3,4,5}\n",
        "b={4,5,6,7,8,8,9}\n",
        "print(a and b)"
      ],
      "execution_count": 0,
      "outputs": [
        {
          "output_type": "stream",
          "text": [
            "{4, 5, 6, 7, 8, 9}\n"
          ],
          "name": "stdout"
        }
      ]
    },
    {
      "cell_type": "code",
      "metadata": {
        "id": "mgVxOF9RiGAZ",
        "colab_type": "code",
        "outputId": "30fac9b2-7c4e-41d2-ac1a-715661f7f0a8",
        "colab": {
          "base_uri": "https://localhost:8080/",
          "height": 35
        }
      },
      "source": [
        "a={1,2,2,3,4,5}\n",
        "b={4,5,6,7,8,8,9}\n",
        "print(a^b)"
      ],
      "execution_count": 0,
      "outputs": [
        {
          "output_type": "stream",
          "text": [
            "{1, 2, 3, 6, 7, 8, 9}\n"
          ],
          "name": "stdout"
        }
      ]
    },
    {
      "cell_type": "code",
      "metadata": {
        "id": "12cbDjk0iPQ5",
        "colab_type": "code",
        "outputId": "26525853-79c2-460a-df44-308478c934da",
        "colab": {
          "base_uri": "https://localhost:8080/",
          "height": 35
        }
      },
      "source": [
        "a={1,2,2,3,4,5}\n",
        "b={4,5,6,7,8,8,9}\n",
        "print(a&b)"
      ],
      "execution_count": 0,
      "outputs": [
        {
          "output_type": "stream",
          "text": [
            "{4, 5}\n"
          ],
          "name": "stdout"
        }
      ]
    },
    {
      "cell_type": "code",
      "metadata": {
        "id": "hZRTBa3Ein5J",
        "colab_type": "code",
        "colab": {}
      },
      "source": [
        ""
      ],
      "execution_count": 0,
      "outputs": []
    },
    {
      "cell_type": "markdown",
      "metadata": {
        "id": "qV7DSxh8kYLM",
        "colab_type": "text"
      },
      "source": [
        "###project name(application name-contact app)\n",
        "* add a contact detail\n",
        "* searc the contact detail\n",
        "* modify the contact detail\n",
        "* to deleAT the contact detail"
      ]
    },
    {
      "cell_type": "code",
      "metadata": {
        "id": "AW39cT7Hk-LP",
        "colab_type": "code",
        "colab": {}
      },
      "source": [
        "#empty dict object is taken\n",
        "#lets create a function to add a contact details\n",
        "def addcontact(name,phone):\n",
        "    returncontact={}\n",
        "addcontact(\"sumathi\",\"63042560467\")    \n"
      ],
      "execution_count": 0,
      "outputs": []
    },
    {
      "cell_type": "markdown",
      "metadata": {
        "id": "mBGNgaIAJfou",
        "colab_type": "text"
      },
      "source": [
        ""
      ]
    },
    {
      "cell_type": "code",
      "metadata": {
        "id": "1g0Bi4mmNLQ0",
        "colab_type": "code",
        "colab": {
          "base_uri": "https://localhost:8080/",
          "height": 72
        },
        "outputId": "164cfd76-51c4-4282-e3b6-ca1b0ed6d17a"
      },
      "source": [
        "contact={}#empty dict object is taken \n",
        "#lets create a function to add a contact details\n",
        "def addcontact(name,phone):\n",
        "    if name not in contact:\n",
        "        contact[name]=phone\n",
        "        print(\"contact details are added succssfully\")\n",
        "    else:\n",
        "        print(\"name is already exists\")\n",
        "    return\n",
        "addcontact(\"sumathi\",\"99887766\")\n",
        "addcontact(\"sushma\",\"55555555\")\n",
        "addcontact(\"sumathi\",\"99887766\")"
      ],
      "execution_count": 62,
      "outputs": [
        {
          "output_type": "stream",
          "text": [
            "contact details are added succssfully\n",
            "contact details are added succssfully\n",
            "name is already exists\n"
          ],
          "name": "stdout"
        }
      ]
    },
    {
      "cell_type": "markdown",
      "metadata": {
        "id": "09uc9Bw0JfsR",
        "colab_type": "text"
      },
      "source": [
        ""
      ]
    },
    {
      "cell_type": "code",
      "metadata": {
        "id": "LYVrOc9uSZwT",
        "colab_type": "code",
        "colab": {
          "base_uri": "https://localhost:8080/",
          "height": 244
        },
        "outputId": "0a3adc20-b595-44e1-80fe-bee035555ccd"
      },
      "source": [
        "def searchcontact(name):\n",
        "    if name in contacts:\n",
        "        print(\"presnt\")\n",
        "    else:\n",
        "        print(\"not present\")\n",
        "    return\n",
        "searchcontacts(\"sumathi\")\n",
        "searchcontacts(\"sushma\")\n",
        "searchcontacts(\"hema\")"
      ],
      "execution_count": 64,
      "outputs": [
        {
          "output_type": "error",
          "ename": "NameError",
          "evalue": "ignored",
          "traceback": [
            "\u001b[0;31m---------------------------------------------------------------------------\u001b[0m",
            "\u001b[0;31mNameError\u001b[0m                                 Traceback (most recent call last)",
            "\u001b[0;32m<ipython-input-64-340d8555b419>\u001b[0m in \u001b[0;36m<module>\u001b[0;34m()\u001b[0m\n\u001b[1;32m      5\u001b[0m         \u001b[0mprint\u001b[0m\u001b[0;34m(\u001b[0m\u001b[0;34m\"not present\"\u001b[0m\u001b[0;34m)\u001b[0m\u001b[0;34m\u001b[0m\u001b[0;34m\u001b[0m\u001b[0m\n\u001b[1;32m      6\u001b[0m     \u001b[0;32mreturn\u001b[0m\u001b[0;34m\u001b[0m\u001b[0;34m\u001b[0m\u001b[0m\n\u001b[0;32m----> 7\u001b[0;31m \u001b[0msearchcontacts\u001b[0m\u001b[0;34m(\u001b[0m\u001b[0;34m\"sumathi\"\u001b[0m\u001b[0;34m)\u001b[0m\u001b[0;34m\u001b[0m\u001b[0;34m\u001b[0m\u001b[0m\n\u001b[0m\u001b[1;32m      8\u001b[0m \u001b[0msearchcontacts\u001b[0m\u001b[0;34m(\u001b[0m\u001b[0;34m\"sushma\"\u001b[0m\u001b[0;34m)\u001b[0m\u001b[0;34m\u001b[0m\u001b[0;34m\u001b[0m\u001b[0m\n\u001b[1;32m      9\u001b[0m \u001b[0msearchcontacts\u001b[0m\u001b[0;34m(\u001b[0m\u001b[0;34m\"hema\"\u001b[0m\u001b[0;34m)\u001b[0m\u001b[0;34m\u001b[0m\u001b[0;34m\u001b[0m\u001b[0m\n",
            "\u001b[0;31mNameError\u001b[0m: name 'searchcontacts' is not defined"
          ]
        }
      ]
    },
    {
      "cell_type": "code",
      "metadata": {
        "id": "P1NVjZpbayk5",
        "colab_type": "code",
        "colab": {}
      },
      "source": [
        ""
      ],
      "execution_count": 0,
      "outputs": []
    },
    {
      "cell_type": "code",
      "metadata": {
        "id": "5RbcqwDcVqsK",
        "colab_type": "code",
        "colab": {
          "base_uri": "https://localhost:8080/",
          "height": 371
        },
        "outputId": "83a9ccd0-cdc0-4976-edc4-9892427752e3"
      },
      "source": [
        "def modyfycontacts(name,phone):\n",
        "    if name in contacts:\n",
        "        contact[name]=phone\n",
        "        print(\"name,updated succssfully\")\n",
        "    else:\n",
        "        print(\"name ,not exists\")\n",
        "    return\n",
        "modyfycontacts(\"sumathi\",90000000)\n",
        "modifycontacts(\"sushma\",55555555)\n",
        "modyfycontacts(\"hema\",998877)"
      ],
      "execution_count": 57,
      "outputs": [
        {
          "output_type": "error",
          "ename": "NameError",
          "evalue": "ignored",
          "traceback": [
            "\u001b[0;31m---------------------------------------------------------------------------\u001b[0m",
            "\u001b[0;31mNameError\u001b[0m                                 Traceback (most recent call last)",
            "\u001b[0;32m<ipython-input-57-23c91f80d148>\u001b[0m in \u001b[0;36m<module>\u001b[0;34m()\u001b[0m\n\u001b[1;32m      6\u001b[0m         \u001b[0mprint\u001b[0m\u001b[0;34m(\u001b[0m\u001b[0;34m\"name ,not exists\"\u001b[0m\u001b[0;34m)\u001b[0m\u001b[0;34m\u001b[0m\u001b[0;34m\u001b[0m\u001b[0m\n\u001b[1;32m      7\u001b[0m     \u001b[0;32mreturn\u001b[0m\u001b[0;34m\u001b[0m\u001b[0;34m\u001b[0m\u001b[0m\n\u001b[0;32m----> 8\u001b[0;31m \u001b[0mmodyfycontacts\u001b[0m\u001b[0;34m(\u001b[0m\u001b[0;34m\"sumathi\"\u001b[0m\u001b[0;34m,\u001b[0m\u001b[0;36m90000000\u001b[0m\u001b[0;34m)\u001b[0m\u001b[0;34m\u001b[0m\u001b[0;34m\u001b[0m\u001b[0m\n\u001b[0m\u001b[1;32m      9\u001b[0m \u001b[0mmodifycontacts\u001b[0m\u001b[0;34m(\u001b[0m\u001b[0;34m\"sushma\"\u001b[0m\u001b[0;34m,\u001b[0m\u001b[0;36m55555555\u001b[0m\u001b[0;34m)\u001b[0m\u001b[0;34m\u001b[0m\u001b[0;34m\u001b[0m\u001b[0m\n\u001b[1;32m     10\u001b[0m \u001b[0mmodyfycontacts\u001b[0m\u001b[0;34m(\u001b[0m\u001b[0;34m\"hema\"\u001b[0m\u001b[0;34m,\u001b[0m\u001b[0;36m998877\u001b[0m\u001b[0;34m)\u001b[0m\u001b[0;34m\u001b[0m\u001b[0;34m\u001b[0m\u001b[0m\n",
            "\u001b[0;32m<ipython-input-57-23c91f80d148>\u001b[0m in \u001b[0;36mmodyfycontacts\u001b[0;34m(name, phone)\u001b[0m\n\u001b[1;32m      1\u001b[0m \u001b[0;32mdef\u001b[0m \u001b[0mmodyfycontacts\u001b[0m\u001b[0;34m(\u001b[0m\u001b[0mname\u001b[0m\u001b[0;34m,\u001b[0m\u001b[0mphone\u001b[0m\u001b[0;34m)\u001b[0m\u001b[0;34m:\u001b[0m\u001b[0;34m\u001b[0m\u001b[0;34m\u001b[0m\u001b[0m\n\u001b[0;32m----> 2\u001b[0;31m     \u001b[0;32mif\u001b[0m \u001b[0mname\u001b[0m \u001b[0;32min\u001b[0m \u001b[0mcontacts\u001b[0m\u001b[0;34m:\u001b[0m\u001b[0;34m\u001b[0m\u001b[0;34m\u001b[0m\u001b[0m\n\u001b[0m\u001b[1;32m      3\u001b[0m         \u001b[0mcontact\u001b[0m\u001b[0;34m[\u001b[0m\u001b[0mname\u001b[0m\u001b[0;34m]\u001b[0m\u001b[0;34m=\u001b[0m\u001b[0mphone\u001b[0m\u001b[0;34m\u001b[0m\u001b[0;34m\u001b[0m\u001b[0m\n\u001b[1;32m      4\u001b[0m         \u001b[0mprint\u001b[0m\u001b[0;34m(\u001b[0m\u001b[0;34m\"name,updated succssfully\"\u001b[0m\u001b[0;34m)\u001b[0m\u001b[0;34m\u001b[0m\u001b[0;34m\u001b[0m\u001b[0m\n\u001b[1;32m      5\u001b[0m     \u001b[0;32melse\u001b[0m\u001b[0;34m:\u001b[0m\u001b[0;34m\u001b[0m\u001b[0;34m\u001b[0m\u001b[0m\n",
            "\u001b[0;31mNameError\u001b[0m: name 'contacts' is not defined"
          ]
        }
      ]
    },
    {
      "cell_type": "code",
      "metadata": {
        "id": "NIDZG7q-TlCz",
        "colab_type": "code",
        "colab": {
          "base_uri": "https://localhost:8080/",
          "height": 72
        },
        "outputId": "1f2055ff-278f-41b1-83d0-d8ebaeae313b"
      },
      "source": [
        "def delcontact(name,phone):\n",
        "    if name in contact:\n",
        "        contact[name]=phone\n",
        "        print(\"name,deleat succssfully\")\n",
        "    else:\n",
        "        print(\"name, not deleat\")\n",
        "    return\n",
        "delcontact(\"sumathi\",90000000)\n",
        "delcontact(\"sushma\",55555555)\n",
        "delcontact(\"hema\",998877)"
      ],
      "execution_count": 55,
      "outputs": [
        {
          "output_type": "stream",
          "text": [
            "name,deleat succssfully\n",
            "name,deleat succssfully\n",
            "name, not deleat\n"
          ],
          "name": "stdout"
        }
      ]
    },
    {
      "cell_type": "code",
      "metadata": {
        "id": "yZSIzPrhY7yx",
        "colab_type": "code",
        "colab": {}
      },
      "source": [
        ""
      ],
      "execution_count": 0,
      "outputs": []
    }
  ]
}